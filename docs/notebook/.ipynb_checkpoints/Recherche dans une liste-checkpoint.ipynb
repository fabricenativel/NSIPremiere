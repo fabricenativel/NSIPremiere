{
 "cells": [
  {
   "cell_type": "markdown",
   "metadata": {},
   "source": [
    "#  <font color=\"darkred\"> &#10070; Recherche dans une liste</font>\n",
    "\n",
    "## <font color=\"darkblue\"> &diams; Un premier algorithme </font>\n",
    "\n",
    "Un algorithme simple de **recherche d'un élément dans une liste** consiste à parcourir la liste depuis le premier élément. Si on rencontre l'élément recherché, on renvoie `True`, si on atteint la fin de la liste on renvoie `False`."
   ]
  },
  {
   "cell_type": "markdown",
   "metadata": {},
   "source": [
    "## <font color=green> &#9998; Exercices </font>\n",
    "1. <font color=green> <b>Compléter</b> la fonction Python <code>recherche</code> ci-dessous qui implémente cet algorithme.</font><br>"
   ]
  },
  {
   "cell_type": "code",
   "execution_count": 2,
   "metadata": {},
   "outputs": [],
   "source": [
    "# Compléter la fonction recherche :\n",
    "def recherche(element,liste):\n",
    "    for x in liste:\n",
    "        if x==element:\n",
    "            return True\n",
    "    return False"
   ]
  },
  {
   "cell_type": "markdown",
   "metadata": {},
   "source": [
    "2. <font color=green> <b>Proposer</b> un jeu de tests pour cette fonction</font><br>"
   ]
  },
  {
   "cell_type": "code",
   "execution_count": 1,
   "metadata": {},
   "outputs": [],
   "source": [
    "# Tests de la fonction recherche\n"
   ]
  },
  {
   "cell_type": "markdown",
   "metadata": {},
   "source": [
    "## <font color=\"darkblue\"> &diams; Quelques mesures de temps d'exécution </font>\n",
    "\n",
    "On souhaite mesure le temps d'exécution de notre fonction lorsque la taille de la liste augmente, on utilise le module `time` de Python.\n",
    "\n",
    "**&#9888; Attention !**\n",
    "Ces mesures sont forcément imprécises car elles dépendent des demandes des autres applications s'executant sur l'ordinateur.\n",
    "\n",
    "On donne ci-dessous La fonction `temps_execution(n)` qui renvoie pour une liste de longueur `n` le temps d'exécution de la fonction `recherche` ci-dessus."
   ]
  },
  {
   "cell_type": "code",
   "execution_count": 26,
   "metadata": {},
   "outputs": [],
   "source": [
    "import time\n",
    "\n",
    "def temps_execution(n):\n",
    "    liste = [i for i in range(0,n)]\n",
    "    # On y recherche -1 (qui n'y est pas !)\n",
    "    debut = time.time()\n",
    "    recherche(-1,liste)\n",
    "    fin = time.time()\n",
    "    return fin-debut"
   ]
  },
  {
   "cell_type": "code",
   "execution_count": 32,
   "metadata": {},
   "outputs": [
    {
     "data": {
      "text/plain": [
       "0.00022673606872558594"
      ]
     },
     "execution_count": 32,
     "metadata": {},
     "output_type": "execute_result"
    }
   ],
   "source": [
    "temps_execution(10000)"
   ]
  },
  {
   "cell_type": "code",
   "execution_count": null,
   "metadata": {},
   "outputs": [],
   "source": []
  },
  {
   "cell_type": "code",
   "execution_count": 31,
   "metadata": {},
   "outputs": [
    {
     "data": {
      "text/plain": [
       "[<matplotlib.lines.Line2D at 0x7f9a6a5b7640>]"
      ]
     },
     "execution_count": 31,
     "metadata": {},
     "output_type": "execute_result"
    },
    {
     "data": {
      "image/png": "[encoded data removed]",
      "text/plain": [
       "<Figure size 432x288 with 1 Axes>"
      ]
     },
     "metadata": {
      "needs_background": "light"
     },
     "output_type": "display_data"
    }
   ],
   "source": [
    "# On peut utiliser matplotlib pour avoir directement l'allure du graphique\n",
    "x = [100000*k for k in range(1,20)]\n",
    "y = [temps_execution(l) for l in x]\n",
    "import matplotlib.pyplot as plt\n",
    "plt.xlabel(\"Taille des donnés\")\n",
    "plt.ylabel(\"Temps d'exécution\")\n",
    "plt.suptitle(\"Recherche par parcours simple\")\n",
    "plt.plot(x, y)"
   ]
  },
  {
   "cell_type": "markdown",
   "metadata": {},
   "source": [
    "## <font color=\"darkblue\"> &diams; Notion de complexité d'un algorithme </font>\n",
    "\n"
   ]
  },
  {
   "cell_type": "code",
   "execution_count": null,
   "metadata": {},
   "outputs": [],
   "source": []
  },
  {
   "cell_type": "code",
   "execution_count": null,
   "metadata": {},
   "outputs": [],
   "source": [
    "# Ecrire votre programme ci-dessous\n"
   ]
  },
  {
   "cell_type": "markdown",
   "metadata": {},
   "source": [
    "<div class=\"alert alert-block alert-info\">\n",
    "<b>&#9889; A retenir : </b> <br>\n",
    "Prenez l'habitude d'utiliser des noms de variables explicites et de laisser des commentaires dans vos programmes !\n",
    "</div>"
   ]
  }
 ],
 "metadata": {
  "kernelspec": {
   "display_name": "Python 3",
   "language": "python",
   "name": "python3"
  },
  "language_info": {
   "codemirror_mode": {
    "name": "ipython",
    "version": 3
   },
   "file_extension": ".py",
   "mimetype": "text/x-python",
   "name": "python",
   "nbconvert_exporter": "python",
   "pygments_lexer": "ipython3",
   "version": "3.8.10"
  },
  "toc": {
   "base_numbering": 1,
   "nav_menu": {},
   "number_sections": false,
   "sideBar": true,
   "skip_h1_title": false,
   "title_cell": "Table of Contents",
   "title_sidebar": "Contents",
   "toc_cell": false,
   "toc_position": {},
   "toc_section_display": true,
   "toc_window_display": true
  }
 },
 "nbformat": 4,
 "nbformat_minor": 2
}
