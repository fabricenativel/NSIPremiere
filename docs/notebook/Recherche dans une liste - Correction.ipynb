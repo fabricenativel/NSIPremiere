{
 "cells": [
  {
   "cell_type": "markdown",
   "metadata": {},
   "source": [
    "\n",
    "#  <font color=\"darkred\"> &#10070; Recherche dans une liste </font>\n",
    "\n",
    "On souhaite écrire une fonction `indice(elt,liste)`qui renvoie :\n",
    "* l'indice de la première occurence de `elt` s'il apparait dans `liste`\n",
    "* `False` sinon  \n",
    "\n",
    "Par exemples : \n",
    "* indice(3,[1,5,3,2]) doit renvoyer 2 (élément présent en 3e position)\n",
    "* indice(3,[1,5,2]) doit renvoyer False (élément absent)\n",
    "* indice(3,[1,3,5,3,2,3]) doit renvoyer 1 (élément présent en plusieurs positions, on retourne la première position)\n",
    "\n",
    "On testera deux algorithmes :\n",
    "* Une recherche par parcours simple de la liste \n",
    "* Une recherche par dichotomie\n",
    "\n",
    "\n",
    "## <font color=\"darkblue\"> &diams; Recherche par parcours simple de la liste</font>\n"
   ]
  },
  {
   "cell_type": "markdown",
   "metadata": {},
   "source": [
    "<font color=\"green\"><b>a.</b> Ecrire la fonction <code>indice(elt, liste)</code>en écrivant un *parcours par indice* de la liste passée en paramètre, c'est à dire avec une boucle de la forme <code> for indice in range(0,len(liste))</code>"
   ]
  },
  {
   "cell_type": "code",
   "execution_count": 1,
   "metadata": {},
   "outputs": [],
   "source": [
    "# Taper votre fonction ici\n",
    "def indice(elt,liste):\n",
    "    for indice in range(0,len(liste)):\n",
    "        if elt==liste[indice]:\n",
    "            return indice\n",
    "    return False"
   ]
  },
  {
   "cell_type": "markdown",
   "metadata": {},
   "source": [
    "<font color=\"green\"><b>b.</b> A l'aide d'instructions <code>assert</code>, tester le comportement de votre fonction sur les trois exemples donnés dans l'introduction ci-dessus </font>"
   ]
  },
  {
   "cell_type": "code",
   "execution_count": 2,
   "metadata": {},
   "outputs": [],
   "source": [
    "# Vos tests ici\n",
    "assert indice(3,[1,5,3,2])==2\n",
    "assert indice(3,[1,5,2])==False\n",
    "assert indice(3,[1,3,5,3,2,3])==1"
   ]
  },
  {
   "cell_type": "markdown",
   "metadata": {},
   "source": [
    "<font color=\"green\"><b>c.</b> Dans le pire des cas, pour une liste de longueur $n$, combien de comparaisons seront effectuées par votre fonction avant de renvoyer le résultat ? Que peut-on en déduire ?</font>"
   ]
  },
  {
   "cell_type": "markdown",
   "metadata": {},
   "source": [
    "On effectue un maximum de $n$ comparaisons, par conséquent on peut dire que cette algorithme a une complexité en $O(n)$"
   ]
  },
  {
   "cell_type": "markdown",
   "metadata": {},
   "source": [
    "<font color=\"green\"><b>d.</b> On souhaite tracer l'évolution du temps d'exécution lorsque la taille de la liste augmente. Quel devrait être l'allure du graphe obtenu ? Justifier</font>"
   ]
  },
  {
   "cell_type": "markdown",
   "metadata": {},
   "source": [
    " Le graphe obtenu doit être une droite car la complexité est linéaire."
   ]
  },
  {
   "cell_type": "markdown",
   "metadata": {},
   "source": [
    "<font color=\"green\"><b>e.</b> Le module <code>timeit</code> de Python permet de mesurer le temps d'exécution d'une fonction. Consulter la <a href=\"https://docs.python.org/3/library/timeit.html\">documentation de ce module</a> pour en voir des exemples d'utilisation.</font>"
   ]
  },
  {
   "cell_type": "code",
   "execution_count": 10,
   "metadata": {},
   "outputs": [
    {
     "data": {
      "text/plain": [
       "0.40411260800101445"
      ]
     },
     "execution_count": 10,
     "metadata": {},
     "output_type": "execute_result"
    }
   ],
   "source": [
    "# Vous pouvez utiliser cette cellule pour importer le module timeit \n",
    "# Et faire quelques tests pour comprendre son fonctionnement\n",
    "import timeit\n",
    "N = 10000\n",
    "L = [i for i in range(0,N)]\n",
    "timeit.timeit('indice(N,L)',number=1000,globals=globals())"
   ]
  },
  {
   "cell_type": "markdown",
   "metadata": {},
   "source": [
    "<font color=\"green\"><b>f.</b> Mesurer le temps d'exécution de votre fonction <code>indice</code> pour une liste de taille 10000, 20000, 40000, 60000, 80000 et 100000 éléments (générér aléatoirement votre liste ou prendre la liste des premiers entiers). Tracer le graphe à l'aide d'un tableur </font>\n"
   ]
  },
  {
   "cell_type": "markdown",
   "metadata": {},
   "source": [
    "Noter ici les temps d'exécution obtenus :\n",
    "*  10 000 éléments : 0.404\n",
    "*  20 000 éléments : 0.802\n",
    "*  40 000 éléments : 1.657\n",
    "*  60 000 éléments : 2.478\n",
    "*  80 000 éléments : 3.270\n",
    "* 100 000 éléments : 4.111"
   ]
  },
  {
   "cell_type": "code",
   "execution_count": 12,
   "metadata": {},
   "outputs": [
    {
     "data": {
      "text/plain": [
       "[<matplotlib.lines.Line2D at 0x7fc07ae01490>]"
      ]
     },
     "execution_count": 12,
     "metadata": {},
     "output_type": "execute_result"
    },
    {
     "data": {
      "image/png": "[encoded data removed]",
      "text/plain": [
       "<Figure size 432x288 with 1 Axes>"
      ]
     },
     "metadata": {
      "needs_background": "light"
     },
     "output_type": "display_data"
    }
   ],
   "source": [
    "# On peut utiliser matplotlib pour avoir directement l'allure du graphique\n",
    "%matplotlib inline\n",
    "x = [10000,20000,40000,60000,80000,100000]\n",
    "y = [0.404,0.802,1.657,2.478,3.270,4.111]\n",
    "import matplotlib.pyplot as plt\n",
    "plt.xlabel(\"Taille des donnés\")\n",
    "plt.ylabel(\"Temps d'exécution\")\n",
    "plt.suptitle(\"Recherche par parcours simple\")\n",
    "plt.plot(x, y)"
   ]
  },
  {
   "cell_type": "markdown",
   "metadata": {},
   "source": [
    "## <font color=\"darkblue\"> &diams; Recherche dichotomique dans un tableau trié</font>\n",
    "\n",
    "On suppose maintenant que la liste est **triée**. L'algorithme de recherche s'appelle alors la <font color=\"red\">dichotomie</font>. Il consiste à **réduire de moitié à chaque étape** la plage de recherche de l'élément. En effet :\n",
    "1. On compare l'élément cherché avec celui situé au \"milieu\" de la liste\n",
    "2. S'il est plus petit on recherche alors entre le debut et le milieu, sinon entre le milieu et la fin\n",
    "3. On recommence l'étape 1 tant que la plage de recherche ne se limite pas à un élément"
   ]
  },
  {
   "cell_type": "markdown",
   "metadata": {},
   "source": [
    "<font color=\"green\"><b>a.</b> Ecrire la fonction <code>dichotomie(elt, liste)</code>"
   ]
  },
  {
   "cell_type": "code",
   "execution_count": 27,
   "metadata": {},
   "outputs": [],
   "source": [
    "# Ecrire la fonction dichotomie ici\n",
    "def dichotomie(elt,liste):\n",
    "    debut = 0\n",
    "    fin = len(liste)-1\n",
    "    trouve = False\n",
    "    while not trouve and fin-debut>1:\n",
    "        milieu=(debut+fin)//2\n",
    "        print(debut,fin,milieu)\n",
    "        if liste[milieu]<elt:\n",
    "            debut=milieu\n",
    "        if liste[milieu]>elt:\n",
    "            fin=milieu\n",
    "        if liste[milieu]==elt:\n",
    "            trouve=True\n",
    "    if trouve:\n",
    "        return milieu\n",
    "    else:\n",
    "        return False"
   ]
  },
  {
   "cell_type": "markdown",
   "metadata": {},
   "source": [
    "<font color=\"green\"><b>b.</b> A l'aide d'instructions <code>assert</code>, tester le comportement de votre fonction. Ne pas oublier que la liste doit être triée</font>"
   ]
  },
  {
   "cell_type": "code",
   "execution_count": 29,
   "metadata": {},
   "outputs": [
    {
     "name": "stdout",
     "output_type": "stream",
     "text": [
      "0 8 4\n",
      "4 8 6\n",
      "4 6 5\n"
     ]
    },
    {
     "data": {
      "text/plain": [
       "False"
      ]
     },
     "execution_count": 29,
     "metadata": {},
     "output_type": "execute_result"
    }
   ],
   "source": [
    "# Quelques tests pour la fonction dichotomie\n",
    "dichotomie(28,[14, 15, 17, 22, 23, 27, 29, 34, 38])\n"
   ]
  },
  {
   "cell_type": "code",
   "execution_count": 17,
   "metadata": {},
   "outputs": [
    {
     "data": {
      "text/plain": [
       "5"
      ]
     },
     "execution_count": 17,
     "metadata": {},
     "output_type": "execute_result"
    }
   ],
   "source": [
    "(5+5)//2"
   ]
  },
  {
   "cell_type": "markdown",
   "metadata": {},
   "source": [
    "<font color=\"green\"><b>c.</b> De même que pour la recherche par parcours simple, mesurer le temps d'exécution de votre fonction <code>dichotomie</code> pour des tailles de listes variant entre 10000 et 100000 éléments (la liste devant être triée on pourra utiliser des listes successives d'entiers).</font>"
   ]
  },
  {
   "cell_type": "code",
   "execution_count": 23,
   "metadata": {},
   "outputs": [
    {
     "data": {
      "text/plain": [
       "2.438352578999911"
      ]
     },
     "execution_count": 23,
     "metadata": {},
     "output_type": "execute_result"
    }
   ],
   "source": [
    "N = 10000\n",
    "L = [i for i in range(0,N)]\n",
    "timeit.timeit('dichotomie(N,L)',number=1000000,globals=globals())"
   ]
  },
  {
   "cell_type": "markdown",
   "metadata": {},
   "source": [
    "Noter ici les temps d'exécution obtenus :\n",
    "*  10 000 éléments : 2.438\n",
    "*  20 000 éléments : 2.574\n",
    "*  40 000 éléments : 2.782\n",
    "*  60 000 éléments : 2.802\n",
    "*  80 000 éléments : 2.950\n",
    "* 100 000 éléments : 2.951"
   ]
  },
  {
   "cell_type": "markdown",
   "metadata": {},
   "source": [
    "<font color=\"green\"><b>d.</b> Tracer le graphe du temps d'exécution en fonction de la taille de la liste. Commenter en comparant avec le graphe obtenu pour la recherche par parcours simple </font>"
   ]
  },
  {
   "cell_type": "code",
   "execution_count": 24,
   "metadata": {},
   "outputs": [
    {
     "data": {
      "text/plain": [
       "[<matplotlib.lines.Line2D at 0x7fc0a1790130>]"
      ]
     },
     "execution_count": 24,
     "metadata": {},
     "output_type": "execute_result"
    },
    {
     "data": {
      "image/png": "[encoded data removed]",
      "text/plain": [
       "<Figure size 432x288 with 1 Axes>"
      ]
     },
     "metadata": {
      "needs_background": "light"
     },
     "output_type": "display_data"
    }
   ],
   "source": [
    "x = [10000,20000,40000,60000,80000,100000]\n",
    "y = [2.438,2.574,2.782,2.802,2.950,2.951]\n",
    "import matplotlib.pyplot as plt\n",
    "plt.xlabel(\"Taille des donnés\")\n",
    "plt.ylabel(\"Temps d'exécution\")\n",
    "plt.suptitle(\"Recherche par dichotomie (liste triée)\")\n",
    "plt.plot(x, y)"
   ]
  },
  {
   "cell_type": "markdown",
   "metadata": {},
   "source": [
    "## <font color=\"darkblue\"> &diams; Version récursive</font>\n",
    "\n",
    "Ecrire une version récursive de la fonction de recherche par dichotomie dans un tableau trié."
   ]
  },
  {
   "cell_type": "code",
   "execution_count": 37,
   "metadata": {},
   "outputs": [
    {
     "data": {
      "text/plain": [
       "55"
      ]
     },
     "execution_count": 37,
     "metadata": {},
     "output_type": "execute_result"
    }
   ],
   "source": [
    "# Votre fonction de recherche par dichotomie version récursive\n",
    "def dichotomie_recursive(elt,liste,debut,fin):\n",
    "    if fin-debut==1:\n",
    "        if liste[debut]==elt: \n",
    "            return debut\n",
    "        else:\n",
    "            return False\n",
    "    milieu=(debut+fin)//2\n",
    "    if elt==liste[milieu]:\n",
    "        return milieu\n",
    "    if elt<liste[milieu]:\n",
    "        return dichotomie_recursive(elt,liste,0,milieu+1)\n",
    "    if elt>liste[milieu]:\n",
    "        return dichotomie_recursive(elt,liste,milieu,fin)\n",
    "\n",
    "dichotomie_recursive(55,[i for i in range(100)],0,100)"
   ]
  },
  {
   "cell_type": "code",
   "execution_count": null,
   "metadata": {},
   "outputs": [],
   "source": []
  }
 ],
 "metadata": {
  "kernelspec": {
   "display_name": "Python 3",
   "language": "python",
   "name": "python3"
  },
  "language_info": {
   "codemirror_mode": {
    "name": "ipython",
    "version": 3
   },
   "file_extension": ".py",
   "mimetype": "text/x-python",
   "name": "python",
   "nbconvert_exporter": "python",
   "pygments_lexer": "ipython3",
   "version": "3.8.10"
  },
  "toc": {
   "base_numbering": 1,
   "nav_menu": {},
   "number_sections": false,
   "sideBar": true,
   "skip_h1_title": false,
   "title_cell": "Table of Contents",
   "title_sidebar": "Contents",
   "toc_cell": false,
   "toc_position": {},
   "toc_section_display": true,
   "toc_window_display": true
  }
 },
 "nbformat": 4,
 "nbformat_minor": 4
}
